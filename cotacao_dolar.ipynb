{
 "cells": [
  {
   "cell_type": "code",
   "execution_count": 7,
   "id": "f9bed663-79e9-4ea3-9179-964b5c6a5c71",
   "metadata": {},
   "outputs": [
    {
     "name": "stdout",
     "output_type": "stream",
     "text": [
      "5.4266\n"
     ]
    }
   ],
   "source": [
    "import requests\n",
    "import json\n",
    "\n",
    "cotacoes = requests.get(\"https://economia.awesomeapi.com.br/last/USD-BRL,EUR-BRL,BTC-BRL\")\n",
    "cotacoes = cotacoes.json()\n",
    "cotacao_dolar = cotacoes['USDBRL'][\"bid\"]\n",
    "#print (cotacoes)\n",
    "print (cotacao_dolar)"
   ]
  },
  {
   "cell_type": "code",
   "execution_count": null,
   "id": "cb5f1adb-fa69-4406-aacd-dc025716071c",
   "metadata": {},
   "outputs": [],
   "source": []
  }
 ],
 "metadata": {
  "kernelspec": {
   "display_name": "Python [conda env:base] *",
   "language": "python",
   "name": "conda-base-py"
  },
  "language_info": {
   "codemirror_mode": {
    "name": "ipython",
    "version": 3
   },
   "file_extension": ".py",
   "mimetype": "text/x-python",
   "name": "python",
   "nbconvert_exporter": "python",
   "pygments_lexer": "ipython3",
   "version": "3.13.5"
  }
 },
 "nbformat": 4,
 "nbformat_minor": 5
}
